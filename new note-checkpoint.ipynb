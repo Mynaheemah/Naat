{
 "cells": [
  {
   "cell_type": "code",
   "execution_count": 1,
   "id": "df2e4911",
   "metadata": {},
   "outputs": [
    {
     "data": {
      "text/plain": [
       "'d'"
      ]
     },
     "execution_count": 1,
     "metadata": {},
     "output_type": "execute_result"
    }
   ],
   "source": [
    "y = \"ade\"\n",
    "y[1]"
   ]
  },
  {
   "cell_type": "code",
   "execution_count": 2,
   "id": "d201559e",
   "metadata": {},
   "outputs": [
    {
     "name": "stdout",
     "output_type": "stream",
     "text": [
      "45.999\n"
     ]
    }
   ],
   "source": [
    "x= 45.999\n",
    "print(x)"
   ]
  },
  {
   "cell_type": "code",
   "execution_count": 3,
   "id": "32844728",
   "metadata": {},
   "outputs": [
    {
     "name": "stdout",
     "output_type": "stream",
     "text": [
      "34\n"
     ]
    }
   ],
   "source": [
    "y = 34\n",
    "print(y)"
   ]
  },
  {
   "cell_type": "code",
   "execution_count": 4,
   "id": "5092bacb",
   "metadata": {},
   "outputs": [
    {
     "data": {
      "text/plain": [
       "34.0"
      ]
     },
     "execution_count": 4,
     "metadata": {},
     "output_type": "execute_result"
    }
   ],
   "source": [
    "float(34)"
   ]
  },
  {
   "cell_type": "code",
   "execution_count": 5,
   "id": "5f68f7b1",
   "metadata": {},
   "outputs": [
    {
     "data": {
      "text/plain": [
       "34"
      ]
     },
     "execution_count": 5,
     "metadata": {},
     "output_type": "execute_result"
    }
   ],
   "source": [
    "int(34.67)"
   ]
  },
  {
   "cell_type": "code",
   "execution_count": 6,
   "id": "fca82b8a",
   "metadata": {},
   "outputs": [],
   "source": [
    "a = []"
   ]
  },
  {
   "cell_type": "code",
   "execution_count": 7,
   "id": "0b127b57",
   "metadata": {},
   "outputs": [],
   "source": [
    "a.append('ade')"
   ]
  },
  {
   "cell_type": "code",
   "execution_count": 8,
   "id": "64ef3082",
   "metadata": {},
   "outputs": [
    {
     "data": {
      "text/plain": [
       "['ade']"
      ]
     },
     "execution_count": 8,
     "metadata": {},
     "output_type": "execute_result"
    }
   ],
   "source": [
    "a"
   ]
  },
  {
   "cell_type": "code",
   "execution_count": 9,
   "id": "4dd13f48",
   "metadata": {},
   "outputs": [
    {
     "data": {
      "text/plain": [
       "79.999"
      ]
     },
     "execution_count": 9,
     "metadata": {},
     "output_type": "execute_result"
    }
   ],
   "source": [
    "z = x + y\n",
    "z"
   ]
  },
  {
   "cell_type": "code",
   "execution_count": 10,
   "id": "54545b82",
   "metadata": {},
   "outputs": [
    {
     "data": {
      "text/plain": [
       "['ade', 79.999]"
      ]
     },
     "execution_count": 10,
     "metadata": {},
     "output_type": "execute_result"
    }
   ],
   "source": [
    "a.append(z)\n",
    "a"
   ]
  },
  {
   "cell_type": "code",
   "execution_count": 11,
   "id": "22b07999",
   "metadata": {},
   "outputs": [
    {
     "data": {
      "text/plain": [
       "True"
      ]
     },
     "execution_count": 11,
     "metadata": {},
     "output_type": "execute_result"
    }
   ],
   "source": [
    "b= 3>2\n",
    "b"
   ]
  },
  {
   "cell_type": "code",
   "execution_count": 12,
   "id": "f9688aa8",
   "metadata": {},
   "outputs": [
    {
     "data": {
      "text/plain": [
       "1"
      ]
     },
     "execution_count": 12,
     "metadata": {},
     "output_type": "execute_result"
    }
   ],
   "source": [
    "int(True)"
   ]
  },
  {
   "cell_type": "code",
   "execution_count": 13,
   "id": "4c19c57a",
   "metadata": {},
   "outputs": [],
   "source": [
    "r = 56 < 3\n"
   ]
  },
  {
   "cell_type": "code",
   "execution_count": 14,
   "id": "ad2976bb",
   "metadata": {},
   "outputs": [
    {
     "data": {
      "text/plain": [
       "0"
      ]
     },
     "execution_count": 14,
     "metadata": {},
     "output_type": "execute_result"
    }
   ],
   "source": [
    "int(False)"
   ]
  },
  {
   "cell_type": "code",
   "execution_count": 15,
   "id": "ec9cf72d",
   "metadata": {},
   "outputs": [
    {
     "data": {
      "text/plain": [
       "['ade', 79.999, False]"
      ]
     },
     "execution_count": 15,
     "metadata": {},
     "output_type": "execute_result"
    }
   ],
   "source": [
    "a.append(r)\n",
    "a"
   ]
  },
  {
   "cell_type": "code",
   "execution_count": 16,
   "id": "53a92f91",
   "metadata": {},
   "outputs": [
    {
     "data": {
      "text/plain": [
       "['ade', 79.999, False, True]"
      ]
     },
     "execution_count": 16,
     "metadata": {},
     "output_type": "execute_result"
    }
   ],
   "source": [
    "a.append(b)\n",
    "a"
   ]
  },
  {
   "cell_type": "code",
   "execution_count": 17,
   "id": "5f62f39b",
   "metadata": {},
   "outputs": [
    {
     "data": {
      "text/plain": [
       "4"
      ]
     },
     "execution_count": 17,
     "metadata": {},
     "output_type": "execute_result"
    }
   ],
   "source": [
    "len(a)"
   ]
  },
  {
   "cell_type": "code",
   "execution_count": 45,
   "id": "c8ad5981",
   "metadata": {},
   "outputs": [
    {
     "data": {
      "text/plain": [
       "['osun', 'ogun', 'ekiti', 'ondo', 'lagos']"
      ]
     },
     "execution_count": 45,
     "metadata": {},
     "output_type": "execute_result"
    }
   ],
   "source": [
    "West = ['osun', 'ogun', 'ekiti', 'ondo', 'sokoto']\n",
    "North = ['kano','yola', 'jalingo', 'maiduguri']\n",
    "East = ['enugu', 'abia', 'delta', 'rivers']\n",
    "West[4] = 'lagos'\n",
    "West"
   ]
  },
  {
   "cell_type": "code",
   "execution_count": 53,
   "id": "420e8263",
   "metadata": {},
   "outputs": [
    {
     "data": {
      "text/plain": [
       "('osun', 'ogun', 'ekiti', 'ondo', 'lagos')"
      ]
     },
     "execution_count": 53,
     "metadata": {},
     "output_type": "execute_result"
    }
   ],
   "source": [
    "tuple(West)\n",
    "\n",
    "\n"
   ]
  },
  {
   "cell_type": "code",
   "execution_count": 54,
   "id": "2c008b88",
   "metadata": {},
   "outputs": [
    {
     "data": {
      "text/plain": [
       "('kano', 'yola', 'jalingo', 'maiduguri')"
      ]
     },
     "execution_count": 54,
     "metadata": {},
     "output_type": "execute_result"
    }
   ],
   "source": [
    "tuple(North)"
   ]
  },
  {
   "cell_type": "code",
   "execution_count": 55,
   "id": "55a11fc3",
   "metadata": {},
   "outputs": [
    {
     "data": {
      "text/plain": [
       "('enugu', 'abia', 'delta', 'rivers')"
      ]
     },
     "execution_count": 55,
     "metadata": {},
     "output_type": "execute_result"
    }
   ],
   "source": [
    "\n",
    "tuple(East)"
   ]
  },
  {
   "cell_type": "code",
   "execution_count": 56,
   "id": "3b78c1c4",
   "metadata": {},
   "outputs": [],
   "source": [
    "#create a dictionary,named Nigeria. append the west,east and north"
   ]
  },
  {
   "cell_type": "code",
   "execution_count": 86,
   "id": "d7f79991",
   "metadata": {},
   "outputs": [],
   "source": [
    "Nigeria = {}"
   ]
  },
  {
   "cell_type": "code",
   "execution_count": 87,
   "id": "d3a34663",
   "metadata": {},
   "outputs": [
    {
     "data": {
      "text/plain": [
       "['osun', 'ogun', 'ekiti', 'ondo', 'lagos']"
      ]
     },
     "execution_count": 87,
     "metadata": {},
     "output_type": "execute_result"
    }
   ],
   "source": [
    "West = ['osun', 'ogun', 'ekiti', 'ondo', 'sokoto']\n",
    "North = ['kano','yola', 'jalingo', 'maiduguri']\n",
    "East = ['enugu', 'abia', 'delta', 'rivers']\n",
    "West[4] = 'lagos'\n",
    "West"
   ]
  },
  {
   "cell_type": "code",
   "execution_count": 91,
   "id": "7f5b2671",
   "metadata": {},
   "outputs": [
    {
     "data": {
      "text/plain": [
       "{'West': ['osun', 'ogun', 'ekiti', 'ondo', 'lagos']}"
      ]
     },
     "execution_count": 91,
     "metadata": {},
     "output_type": "execute_result"
    }
   ],
   "source": [
    "Nigeria[\"West\"] = West\n",
    "Nigeria\n"
   ]
  },
  {
   "cell_type": "code",
   "execution_count": 92,
   "id": "14b43b70",
   "metadata": {},
   "outputs": [
    {
     "data": {
      "text/plain": [
       "{'West': ['osun', 'ogun', 'ekiti', 'ondo', 'lagos'],\n",
       " 'East': ['enugu', 'abia', 'delta', 'rivers']}"
      ]
     },
     "execution_count": 92,
     "metadata": {},
     "output_type": "execute_result"
    }
   ],
   "source": [
    "Nigeria[\"East\"] = East\n",
    "Nigeria"
   ]
  },
  {
   "cell_type": "code",
   "execution_count": 93,
   "id": "63e7ea05",
   "metadata": {},
   "outputs": [
    {
     "data": {
      "text/plain": [
       "{'West': ['osun', 'ogun', 'ekiti', 'ondo', 'lagos'],\n",
       " 'East': ['enugu', 'abia', 'delta', 'rivers'],\n",
       " 'North': ['kano', 'yola', 'jalingo', 'maiduguri']}"
      ]
     },
     "execution_count": 93,
     "metadata": {},
     "output_type": "execute_result"
    }
   ],
   "source": [
    "Nigeria[\"North\"] = North\n",
    "Nigeria"
   ]
  },
  {
   "cell_type": "code",
   "execution_count": 95,
   "id": "77fbcae3",
   "metadata": {},
   "outputs": [
    {
     "ename": "ValueError",
     "evalue": "dictionary update sequence element #0 has length 1; 2 is required",
     "output_type": "error",
     "traceback": [
      "\u001b[1;31m---------------------------------------------------------------------------\u001b[0m",
      "\u001b[1;31mValueError\u001b[0m                                Traceback (most recent call last)",
      "Cell \u001b[1;32mIn[95], line 1\u001b[0m\n\u001b[1;32m----> 1\u001b[0m \u001b[38;5;28mdict\u001b[39m(\u001b[38;5;124m'\u001b[39m\u001b[38;5;124mNorth\u001b[39m\u001b[38;5;124m'\u001b[39m)\n",
      "\u001b[1;31mValueError\u001b[0m: dictionary update sequence element #0 has length 1; 2 is required"
     ]
    }
   ],
   "source": [
    "dict('North')"
   ]
  },
  {
   "cell_type": "code",
   "execution_count": null,
   "id": "2cf58c29",
   "metadata": {},
   "outputs": [],
   "source": []
  }
 ],
 "metadata": {
  "kernelspec": {
   "display_name": "Python 3 (ipykernel)",
   "language": "python",
   "name": "python3"
  },
  "language_info": {
   "codemirror_mode": {
    "name": "ipython",
    "version": 3
   },
   "file_extension": ".py",
   "mimetype": "text/x-python",
   "name": "python",
   "nbconvert_exporter": "python",
   "pygments_lexer": "ipython3",
   "version": "3.11.5"
  }
 },
 "nbformat": 4,
 "nbformat_minor": 5
}
